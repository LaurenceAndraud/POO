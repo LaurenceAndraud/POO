{
 "cells": [
  {
   "cell_type": "markdown",
   "id": "ed606798",
   "metadata": {},
   "source": [
    "Class, instance & inheritance"
   ]
  },
  {
   "cell_type": "code",
   "execution_count": 42,
   "id": "173762ae",
   "metadata": {
    "scrolled": true
   },
   "outputs": [
    {
     "name": "stdout",
     "output_type": "stream",
     "text": [
      "Suzuki\n",
      "50\n",
      "white\n"
     ]
    }
   ],
   "source": [
    "class Vehicle:\n",
    "    \n",
    "    color = 'white'\n",
    "    \n",
    "    def __init__(self, name, max_speed, mileage):\n",
    "        self.name = name\n",
    "        self.max_speed = max_speed\n",
    "        self.mileage = mileage\n",
    "        \n",
    "test = Vehicle('Suzuki', 50, 20)\n",
    "print(test.name)\n",
    "print(test.max_speed)\n",
    "print(test.color)"
   ]
  },
  {
   "cell_type": "code",
   "execution_count": 43,
   "id": "d808794c",
   "metadata": {},
   "outputs": [
    {
     "name": "stdout",
     "output_type": "stream",
     "text": [
      "80\n",
      "50\n",
      "45\n"
     ]
    }
   ],
   "source": [
    "class Bus(Vehicle):\n",
    "    \n",
    "    def seating_capacity(self, capacity=50):\n",
    "        return capacity\n",
    "\n",
    "test_bus = Bus('Bus', 80, 40)\n",
    "print(test_bus.max_speed)\n",
    "print(test_bus.seating_capacity())\n",
    "print(test_bus.seating_capacity(45))"
   ]
  },
  {
   "cell_type": "code",
   "execution_count": 44,
   "id": "c0b4c7ff",
   "metadata": {},
   "outputs": [],
   "source": [
    "class Car(Vehicle):\n",
    "    pass"
   ]
  },
  {
   "cell_type": "code",
   "execution_count": 47,
   "id": "487f6591",
   "metadata": {},
   "outputs": [],
   "source": [
    "class Vehicle:\n",
    "    \n",
    "    color = 'white'\n",
    "\n",
    "    def __init__(self, max_speed, mileage):\n",
    "        self.max_speed = max_speed\n",
    "        self.mileage = mileage\n",
    "        \n",
    "    def fare(self, seating_capacity=50):\n",
    "        return seating_capacity * 100"
   ]
  },
  {
   "cell_type": "code",
   "execution_count": 50,
   "id": "bd3eaeab",
   "metadata": {},
   "outputs": [
    {
     "name": "stdout",
     "output_type": "stream",
     "text": [
      "5500.0\n",
      "<class '__main__.Bus'>\n"
     ]
    }
   ],
   "source": [
    "class Bus(Vehicle):\n",
    "    \n",
    "    def fare(self, seating_capacity=50):\n",
    "        fare = super().fare(seating_capacity)\n",
    "        maintenance_charge = fare * 0.1\n",
    "        return fare + maintenance_charge\n",
    "    \n",
    "bus_two = Bus(80, 40)\n",
    "print(bus_two.fare())\n",
    "print(type(bus_two))"
   ]
  },
  {
   "cell_type": "code",
   "execution_count": 53,
   "id": "35a8e0fe",
   "metadata": {},
   "outputs": [
    {
     "name": "stdout",
     "output_type": "stream",
     "text": [
      "True\n",
      "True\n",
      "True\n"
     ]
    }
   ],
   "source": [
    "class SchoolBus(Bus):\n",
    "    pass\n",
    "\n",
    "the_school_bus = SchoolBus(75, 35)\n",
    "print(isinstance(the_school_bus, Vehicle))\n",
    "print(isinstance(the_school_bus, Bus))\n",
    "print(isinstance(the_school_bus, SchoolBus))"
   ]
  }
 ],
 "metadata": {
  "kernelspec": {
   "display_name": "Python 3 (ipykernel)",
   "language": "python",
   "name": "python3"
  },
  "language_info": {
   "codemirror_mode": {
    "name": "ipython",
    "version": 3
   },
   "file_extension": ".py",
   "mimetype": "text/x-python",
   "name": "python",
   "nbconvert_exporter": "python",
   "pygments_lexer": "ipython3",
   "version": "3.9.12"
  }
 },
 "nbformat": 4,
 "nbformat_minor": 5
}
